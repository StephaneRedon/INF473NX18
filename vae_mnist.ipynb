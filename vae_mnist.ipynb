{
  "nbformat": 4,
  "nbformat_minor": 0,
  "metadata": {
    "kernelspec": {
      "name": "python3",
      "display_name": "Python 3"
    },
    "language_info": {
      "codemirror_mode": {
        "name": "ipython",
        "version": 3
      },
      "file_extension": ".py",
      "mimetype": "text/x-python",
      "name": "python",
      "nbconvert_exporter": "python",
      "pygments_lexer": "ipython3",
      "version": "3.7.4"
    },
    "colab": {
      "name": "vae_mnist.ipynb",
      "provenance": [],
      "collapsed_sections": []
    },
    "accelerator": "GPU"
  },
  "cells": [
    {
      "cell_type": "code",
      "metadata": {
        "id": "yB45F4XMfD7x",
        "colab_type": "code",
        "colab": {}
      },
      "source": [
        "import torch\n",
        "import torch.nn as nn\n",
        "import torch.nn.functional as F\n",
        "\n",
        "from torch.utils.data import TensorDataset\n",
        "from torch.utils.data import DataLoader"
      ],
      "execution_count": 0,
      "outputs": []
    },
    {
      "cell_type": "code",
      "metadata": {
        "id": "i2jzc_0LfKsG",
        "colab_type": "code",
        "outputId": "698f052a-7f1c-4dbb-caae-5ed9c5075d65",
        "colab": {
          "base_uri": "https://localhost:8080/",
          "height": 126
        }
      },
      "source": [
        "from google.colab import drive\n",
        "drive.mount('/content/gdrive')"
      ],
      "execution_count": 2,
      "outputs": [
        {
          "output_type": "stream",
          "text": [
            "Go to this URL in a browser: https://accounts.google.com/o/oauth2/auth?client_id=947318989803-6bn6qk8qdgf4n4g3pfee6491hc0brc4i.apps.googleusercontent.com&redirect_uri=urn%3aietf%3awg%3aoauth%3a2.0%3aoob&response_type=code&scope=email%20https%3a%2f%2fwww.googleapis.com%2fauth%2fdocs.test%20https%3a%2f%2fwww.googleapis.com%2fauth%2fdrive%20https%3a%2f%2fwww.googleapis.com%2fauth%2fdrive.photos.readonly%20https%3a%2f%2fwww.googleapis.com%2fauth%2fpeopleapi.readonly\n",
            "\n",
            "Enter your authorization code:\n",
            "··········\n",
            "Mounted at /content/gdrive\n"
          ],
          "name": "stdout"
        }
      ]
    },
    {
      "cell_type": "code",
      "metadata": {
        "id": "hZ1Cx0wvfD8X",
        "colab_type": "code",
        "colab": {}
      },
      "source": [
        "import pickle\n",
        "import gzip\n",
        "\n",
        "with gzip.open((\"/content/gdrive/My Drive/Colab Notebooks/Modal_VAE/mnist/mnist.pkl.gz\"), \"rb\") as f:\n",
        "        ((x_train, y_train), (x_valid, y_valid), _) = pickle.load(f, encoding=\"latin-1\")"
      ],
      "execution_count": 0,
      "outputs": []
    },
    {
      "cell_type": "code",
      "metadata": {
        "id": "G3tjkjnefD8g",
        "colab_type": "code",
        "outputId": "19f4a688-5215-4ba2-952a-10bb363a1acc",
        "colab": {
          "base_uri": "https://localhost:8080/",
          "height": 283
        }
      },
      "source": [
        "from matplotlib import pyplot\n",
        "import numpy as np\n",
        "\n",
        "pyplot.imshow(x_train[0].reshape((28, 28)), cmap=\"gray\")\n",
        "print(x_train.shape)"
      ],
      "execution_count": 4,
      "outputs": [
        {
          "output_type": "stream",
          "text": [
            "(50000, 784)\n"
          ],
          "name": "stdout"
        },
        {
          "output_type": "display_data",
          "data": {
            "image/png": "[encoded data removed]",
            "text/plain": [
              "<Figure size 432x288 with 1 Axes>"
            ]
          },
          "metadata": {
            "tags": [],
            "needs_background": "light"
          }
        }
      ]
    },
    {
      "cell_type": "code",
      "metadata": {
        "id": "jA1K0lpJfD8K",
        "colab_type": "code",
        "colab": {}
      },
      "source": [
        "dev = torch.device('cuda' if torch.cuda.is_available() else 'cpu')\n"
      ],
      "execution_count": 0,
      "outputs": []
    },
    {
      "cell_type": "code",
      "metadata": {
        "id": "vC87YpVzfD8s",
        "colab_type": "code",
        "colab": {}
      },
      "source": [
        "train_size = x_train.shape[0]\n",
        "train_data = torch.tensor(x_train, device=dev).reshape(train_size, 28, 28).unsqueeze(1)\n",
        "train_target = torch.tensor(y_train, device=dev)\n",
        "\n",
        "valid_size = x_valid.shape[0]\n",
        "valid_data = torch.tensor(x_valid, device=dev).reshape(valid_size, 28, 28).unsqueeze(1)\n",
        "valid_target = torch.tensor(y_valid, device=dev)"
      ],
      "execution_count": 0,
      "outputs": []
    },
    {
      "cell_type": "code",
      "metadata": {
        "id": "-fS_ZS8XfD85",
        "colab_type": "code",
        "colab": {}
      },
      "source": [
        "bs = 500"
      ],
      "execution_count": 0,
      "outputs": []
    },
    {
      "cell_type": "code",
      "metadata": {
        "id": "s1qTbNjTfD9G",
        "colab_type": "code",
        "colab": {}
      },
      "source": [
        "train_ds = TensorDataset(train_data, train_data)\n",
        "valid_ds = TensorDataset(valid_data, valid_data)"
      ],
      "execution_count": 0,
      "outputs": []
    },
    {
      "cell_type": "code",
      "metadata": {
        "id": "8Omyyz20fD9L",
        "colab_type": "code",
        "colab": {}
      },
      "source": [
        "train_dl = DataLoader(train_ds, bs)\n",
        "valid_dl = DataLoader(valid_ds, 2*bs)"
      ],
      "execution_count": 0,
      "outputs": []
    },
    {
      "cell_type": "code",
      "metadata": {
        "id": "lt6LtCPJfD9Q",
        "colab_type": "code",
        "colab": {}
      },
      "source": [
        "class VAE(nn.Module):\n",
        "    def __init__(self, channels, dim_h, dim_z):\n",
        "        super(VAE, self).__init__()\n",
        "        \n",
        "        self.encoder = nn.Sequential(\n",
        "            nn.Conv2d(1, 1, (2,2), stride=2, padding=0),\n",
        "            nn.ReLU(),\n",
        "            nn.Conv2d(1, 1, (2,2), stride=2, padding=0),\n",
        "            nn.ReLU(),\n",
        "            nn.Conv2d(1, 1, (2,2), stride=1, padding=0),        \n",
        "        )\n",
        "        \n",
        "        self.p1 = nn.Linear(dim_h, dim_z)\n",
        "        self.p2 = nn.Linear(dim_h, dim_z)\n",
        "        \n",
        "        self.decoder = nn.Sequential(\n",
        "            nn.BatchNorm2d(1),\n",
        "            nn.ConvTranspose2d(1, 1, (2,2), stride=2, padding=0),            \n",
        "            nn.ReLU(),\n",
        "            nn.ConvTranspose2d(1, 1, (3,3), stride=2, padding=0),\n",
        "            nn.BatchNorm2d(1),\n",
        "            nn.ReLU(),\n",
        "            nn.ConvTranspose2d(1, 1, (4,4), stride=1, padding=0),\n",
        "            nn.BatchNorm2d(1),\n",
        "            nn.ConvTranspose2d(1, 1, (2,2), stride=1, padding=0),\n",
        "            nn.BatchNorm2d(1),\n",
        "            nn.ConvTranspose2d(1, 1, (2,2), stride=1, padding=0),\n",
        "            nn.ReLU(),\n",
        "            nn.ConvTranspose2d(1, 1, (3,3), stride=1, padding=0),\n",
        "            nn.BatchNorm2d(1),\n",
        "            nn.ConvTranspose2d(1, 1, (3,3), stride=1, padding=0),\n",
        "            nn.BatchNorm2d(1),\n",
        "            nn.ConvTranspose2d(1, 1, (3,3), stride=1, padding=0)\n",
        "        )\n",
        "\n",
        "        self.bn1 = nn.BatchNorm2d(1)\n",
        "        self.bn2 = nn.BatchNorm2d(1)\n",
        "    \n",
        "    def encode(self, in_data):\n",
        "        h = self.encoder(in_data)\n",
        "        h = h.reshape(h.shape[0], -1)\n",
        "\n",
        "        #mu = self.p1(h)\n",
        "        #log_var = self.p2(h)\n",
        "        h = self.p1(h)\n",
        "        mu, log_var = torch.split(h, 16, 1)\n",
        "        \n",
        "        #sampling and reparameterization for backprop\n",
        "        z = torch.rand(mu.shape, device = dev)\n",
        "        z = mu + torch.exp(log_var) * z\n",
        "        z = z.reshape(z.shape[0], 1, 4, 4)\n",
        "        return z, mu, log_var\n",
        "    \n",
        "    def decode(self, h_data):\n",
        "        z = self.decoder(h_data)\n",
        "        return z\n",
        "                \n",
        "    def forward(self, in_data):\n",
        "        z, mu, log_var = self.encode(in_data)\n",
        "\n",
        "        z = self.decode(z)\n",
        "        return z, mu, log_var        "
      ],
      "execution_count": 0,
      "outputs": []
    },
    {
      "cell_type": "code",
      "metadata": {
        "id": "aRFpi7HvfD9X",
        "colab_type": "code",
        "colab": {}
      },
      "source": [
        "model_vae = VAE(11, 36, 32).to(dev)"
      ],
      "execution_count": 0,
      "outputs": []
    },
    {
      "cell_type": "code",
      "metadata": {
        "id": "YQ6YmOe9fD9e",
        "colab_type": "code",
        "colab": {}
      },
      "source": [
        "#Kullback–Leibler divergence for N(mu, var^2) and N(0, I)\n",
        "def kl_divergence(mu, log_var):\n",
        "    return 0.5*( torch.sum( log_var.exp(), 1) + torch.sum(mu*mu, 1) - mu.shape[1] - torch.sum(log_var, 1) )"
      ],
      "execution_count": 0,
      "outputs": []
    },
    {
      "cell_type": "code",
      "metadata": {
        "id": "YEV3BCH4fD9l",
        "colab_type": "code",
        "colab": {}
      },
      "source": [
        "#(MSE loss + Kullback–Leibler divergence) / batch\n",
        "def vae_loss(mu, log_var, pred, target):\n",
        "    bs = pred.shape[0]\n",
        "    kl_loss = kl_divergence(mu, log_var).mean()\n",
        "    mse_loss = F.l1_loss(pred, target, reduction = 'sum') / bs\n",
        "    return (kl_loss + mse_loss)"
      ],
      "execution_count": 0,
      "outputs": []
    },
    {
      "cell_type": "code",
      "metadata": {
        "id": "bNlxNc-nfD9r",
        "colab_type": "code",
        "colab": {}
      },
      "source": [
        "lr = 0.001"
      ],
      "execution_count": 0,
      "outputs": []
    },
    {
      "cell_type": "code",
      "metadata": {
        "id": "riOO5T7tfD9y",
        "colab_type": "code",
        "colab": {}
      },
      "source": [
        "loss_func = vae_loss\n",
        "opt = torch.optim.Adam(model_vae.parameters(), lr)"
      ],
      "execution_count": 0,
      "outputs": []
    },
    {
      "cell_type": "code",
      "metadata": {
        "id": "vevxH_zefD94",
        "colab_type": "code",
        "colab": {}
      },
      "source": [
        "def fit(epochs, model, loss_func, opt, train_dl, valid_dl):\n",
        "    for epoch in range(epochs):\n",
        "        model.train()\n",
        "        for data, target in train_dl:\n",
        "            pred, mu, log_var = model(data)\n",
        "            loss = loss_func(mu, log_var, pred, target)\n",
        "            opt.zero_grad()\n",
        "            loss.backward()\n",
        "            opt.step()\n",
        "        \n",
        "        model.eval()\n",
        "        with torch.no_grad():\n",
        "            average_valid_loss = torch.zeros(1)\n",
        "            l1_loss = torch.zeros(1)\n",
        "            num_batch = 0\n",
        "            for data, target in valid_dl:\n",
        "                pred, mu, log_var = model(data)\n",
        "                average_valid_loss += loss_func(mu, log_var, pred, target)\n",
        "                num_batch += 1\n",
        "                l1_loss += F.l1_loss(pred, target, reduction='sum')\n",
        "            average_valid_loss /= num_batch\n",
        "            l1_loss /= (bs * num_batch)\n",
        "            print(\"Epoch: \" + str(epoch) + \"  L1 + KL-divergence: \" + str(average_valid_loss) + \"  L1-loss: \" + str(l1_loss))"
      ],
      "execution_count": 0,
      "outputs": []
    },
    {
      "cell_type": "code",
      "metadata": {
        "id": "APwqznr_fD9_",
        "colab_type": "code",
        "colab": {}
      },
      "source": [
        "epochs = 100"
      ],
      "execution_count": 0,
      "outputs": []
    },
    {
      "cell_type": "code",
      "metadata": {
        "id": "901KaiaRfD-D",
        "colab_type": "code",
        "outputId": "e3ea9056-bf1f-4ac5-8938-4c8865ef67e2",
        "colab": {
          "base_uri": "https://localhost:8080/",
          "height": 1000
        }
      },
      "source": [
        "fit(epochs, model_vae, loss_func, opt, train_dl, valid_dl)"
      ],
      "execution_count": 248,
      "outputs": [
        {
          "output_type": "stream",
          "text": [
            "Epoch: 0  L1 + KL-divergence: tensor([75.4181])  L1-loss: tensor([145.2146])\n",
            "Epoch: 1  L1 + KL-divergence: tensor([72.6655])  L1-loss: tensor([139.6529])\n",
            "Epoch: 2  L1 + KL-divergence: tensor([73.8619])  L1-loss: tensor([142.0478])\n",
            "Epoch: 3  L1 + KL-divergence: tensor([73.2731])  L1-loss: tensor([140.8357])\n",
            "Epoch: 4  L1 + KL-divergence: tensor([74.8062])  L1-loss: tensor([143.9437])\n",
            "Epoch: 5  L1 + KL-divergence: tensor([79.0089])  L1-loss: tensor([152.3104])\n",
            "Epoch: 6  L1 + KL-divergence: tensor([76.7373])  L1-loss: tensor([147.7268])\n",
            "Epoch: 7  L1 + KL-divergence: tensor([77.2409])  L1-loss: tensor([148.6906])\n",
            "Epoch: 8  L1 + KL-divergence: tensor([78.3884])  L1-loss: tensor([151.0256])\n",
            "Epoch: 9  L1 + KL-divergence: tensor([72.1967])  L1-loss: tensor([138.6041])\n",
            "Epoch: 10  L1 + KL-divergence: tensor([78.0018])  L1-loss: tensor([150.2421])\n",
            "Epoch: 11  L1 + KL-divergence: tensor([73.6514])  L1-loss: tensor([141.4818])\n",
            "Epoch: 12  L1 + KL-divergence: tensor([76.2402])  L1-loss: tensor([146.6442])\n",
            "Epoch: 13  L1 + KL-divergence: tensor([77.9770])  L1-loss: tensor([150.1248])\n",
            "Epoch: 14  L1 + KL-divergence: tensor([74.0205])  L1-loss: tensor([142.2187])\n",
            "Epoch: 15  L1 + KL-divergence: tensor([78.4494])  L1-loss: tensor([151.0275])\n",
            "Epoch: 16  L1 + KL-divergence: tensor([75.6192])  L1-loss: tensor([145.3063])\n",
            "Epoch: 17  L1 + KL-divergence: tensor([74.1131])  L1-loss: tensor([142.3562])\n",
            "Epoch: 18  L1 + KL-divergence: tensor([83.6661])  L1-loss: tensor([161.4066])\n",
            "Epoch: 19  L1 + KL-divergence: tensor([92.9646])  L1-loss: tensor([180.0083])\n",
            "Epoch: 20  L1 + KL-divergence: tensor([74.2611])  L1-loss: tensor([142.5799])\n",
            "Epoch: 21  L1 + KL-divergence: tensor([75.1719])  L1-loss: tensor([144.4093])\n",
            "Epoch: 22  L1 + KL-divergence: tensor([73.8458])  L1-loss: tensor([141.7247])\n",
            "Epoch: 23  L1 + KL-divergence: tensor([74.9618])  L1-loss: tensor([143.9648])\n",
            "Epoch: 24  L1 + KL-divergence: tensor([75.7863])  L1-loss: tensor([145.5433])\n",
            "Epoch: 25  L1 + KL-divergence: tensor([87.9470])  L1-loss: tensor([169.8947])\n",
            "Epoch: 26  L1 + KL-divergence: tensor([79.6723])  L1-loss: tensor([153.3077])\n",
            "Epoch: 27  L1 + KL-divergence: tensor([76.0752])  L1-loss: tensor([146.0720])\n",
            "Epoch: 28  L1 + KL-divergence: tensor([72.1265])  L1-loss: tensor([138.1774])\n",
            "Epoch: 29  L1 + KL-divergence: tensor([72.1439])  L1-loss: tensor([138.1785])\n",
            "Epoch: 30  L1 + KL-divergence: tensor([73.5499])  L1-loss: tensor([141.0147])\n",
            "Epoch: 31  L1 + KL-divergence: tensor([79.9024])  L1-loss: tensor([153.7295])\n",
            "Epoch: 32  L1 + KL-divergence: tensor([73.4737])  L1-loss: tensor([140.8323])\n",
            "Epoch: 33  L1 + KL-divergence: tensor([77.1792])  L1-loss: tensor([148.2447])\n",
            "Epoch: 34  L1 + KL-divergence: tensor([73.7254])  L1-loss: tensor([141.2762])\n",
            "Epoch: 35  L1 + KL-divergence: tensor([75.2619])  L1-loss: tensor([144.3494])\n",
            "Epoch: 36  L1 + KL-divergence: tensor([74.8501])  L1-loss: tensor([143.4852])\n",
            "Epoch: 37  L1 + KL-divergence: tensor([74.0815])  L1-loss: tensor([141.9105])\n",
            "Epoch: 38  L1 + KL-divergence: tensor([76.3088])  L1-loss: tensor([146.3553])\n",
            "Epoch: 39  L1 + KL-divergence: tensor([73.5524])  L1-loss: tensor([140.8528])\n",
            "Epoch: 40  L1 + KL-divergence: tensor([75.1205])  L1-loss: tensor([144.0376])\n",
            "Epoch: 41  L1 + KL-divergence: tensor([87.7074])  L1-loss: tensor([169.1137])\n",
            "Epoch: 42  L1 + KL-divergence: tensor([72.6703])  L1-loss: tensor([139.0414])\n",
            "Epoch: 43  L1 + KL-divergence: tensor([72.5755])  L1-loss: tensor([138.8592])\n",
            "Epoch: 44  L1 + KL-divergence: tensor([73.5649])  L1-loss: tensor([140.8031])\n",
            "Epoch: 45  L1 + KL-divergence: tensor([79.2785])  L1-loss: tensor([152.2488])\n",
            "Epoch: 46  L1 + KL-divergence: tensor([76.4589])  L1-loss: tensor([146.5952])\n",
            "Epoch: 47  L1 + KL-divergence: tensor([75.6512])  L1-loss: tensor([144.9810])\n",
            "Epoch: 48  L1 + KL-divergence: tensor([78.9906])  L1-loss: tensor([151.6118])\n",
            "Epoch: 49  L1 + KL-divergence: tensor([76.4769])  L1-loss: tensor([146.5787])\n",
            "Epoch: 50  L1 + KL-divergence: tensor([86.9661])  L1-loss: tensor([167.5920])\n",
            "Epoch: 51  L1 + KL-divergence: tensor([84.6265])  L1-loss: tensor([162.8923])\n",
            "Epoch: 52  L1 + KL-divergence: tensor([73.0193])  L1-loss: tensor([139.6288])\n",
            "Epoch: 53  L1 + KL-divergence: tensor([75.4330])  L1-loss: tensor([144.4406])\n",
            "Epoch: 54  L1 + KL-divergence: tensor([71.5295])  L1-loss: tensor([136.6836])\n",
            "Epoch: 55  L1 + KL-divergence: tensor([79.9643])  L1-loss: tensor([153.5359])\n",
            "Epoch: 56  L1 + KL-divergence: tensor([84.1817])  L1-loss: tensor([161.9914])\n",
            "Epoch: 57  L1 + KL-divergence: tensor([88.5469])  L1-loss: tensor([170.6663])\n",
            "Epoch: 58  L1 + KL-divergence: tensor([74.5490])  L1-loss: tensor([142.6855])\n",
            "Epoch: 59  L1 + KL-divergence: tensor([72.7986])  L1-loss: tensor([139.1681])\n",
            "Epoch: 60  L1 + KL-divergence: tensor([71.7220])  L1-loss: tensor([137.0287])\n",
            "Epoch: 61  L1 + KL-divergence: tensor([76.6451])  L1-loss: tensor([146.8503])\n",
            "Epoch: 62  L1 + KL-divergence: tensor([79.4314])  L1-loss: tensor([152.4434])\n",
            "Epoch: 63  L1 + KL-divergence: tensor([73.7568])  L1-loss: tensor([141.0828])\n",
            "Epoch: 64  L1 + KL-divergence: tensor([77.1920])  L1-loss: tensor([147.9520])\n",
            "Epoch: 65  L1 + KL-divergence: tensor([71.5311])  L1-loss: tensor([136.6296])\n",
            "Epoch: 66  L1 + KL-divergence: tensor([79.7435])  L1-loss: tensor([153.0448])\n",
            "Epoch: 67  L1 + KL-divergence: tensor([77.6962])  L1-loss: tensor([148.9290])\n",
            "Epoch: 68  L1 + KL-divergence: tensor([85.3761])  L1-loss: tensor([164.2979])\n",
            "Epoch: 69  L1 + KL-divergence: tensor([75.1657])  L1-loss: tensor([143.9048])\n",
            "Epoch: 70  L1 + KL-divergence: tensor([74.3549])  L1-loss: tensor([142.2387])\n",
            "Epoch: 71  L1 + KL-divergence: tensor([75.2860])  L1-loss: tensor([144.1428])\n",
            "Epoch: 72  L1 + KL-divergence: tensor([82.4795])  L1-loss: tensor([158.4964])\n",
            "Epoch: 73  L1 + KL-divergence: tensor([81.7592])  L1-loss: tensor([157.0171])\n",
            "Epoch: 74  L1 + KL-divergence: tensor([74.8775])  L1-loss: tensor([143.2847])\n",
            "Epoch: 75  L1 + KL-divergence: tensor([76.4071])  L1-loss: tensor([146.3784])\n",
            "Epoch: 76  L1 + KL-divergence: tensor([71.4971])  L1-loss: tensor([136.5470])\n",
            "Epoch: 77  L1 + KL-divergence: tensor([83.0686])  L1-loss: tensor([159.5929])\n",
            "Epoch: 78  L1 + KL-divergence: tensor([73.4375])  L1-loss: tensor([140.3664])\n",
            "Epoch: 79  L1 + KL-divergence: tensor([78.2465])  L1-loss: tensor([149.9950])\n",
            "Epoch: 80  L1 + KL-divergence: tensor([74.4852])  L1-loss: tensor([142.4972])\n",
            "Epoch: 81  L1 + KL-divergence: tensor([73.7024])  L1-loss: tensor([140.8516])\n",
            "Epoch: 82  L1 + KL-divergence: tensor([73.5669])  L1-loss: tensor([140.6184])\n",
            "Epoch: 83  L1 + KL-divergence: tensor([76.6076])  L1-loss: tensor([146.7032])\n",
            "Epoch: 84  L1 + KL-divergence: tensor([83.1357])  L1-loss: tensor([159.7208])\n",
            "Epoch: 85  L1 + KL-divergence: tensor([73.5613])  L1-loss: tensor([140.6097])\n",
            "Epoch: 86  L1 + KL-divergence: tensor([86.1708])  L1-loss: tensor([165.8503])\n",
            "Epoch: 87  L1 + KL-divergence: tensor([78.4370])  L1-loss: tensor([150.4023])\n",
            "Epoch: 88  L1 + KL-divergence: tensor([74.1991])  L1-loss: tensor([141.8859])\n",
            "Epoch: 89  L1 + KL-divergence: tensor([75.6817])  L1-loss: tensor([144.8634])\n",
            "Epoch: 90  L1 + KL-divergence: tensor([79.1736])  L1-loss: tensor([151.7848])\n",
            "Epoch: 91  L1 + KL-divergence: tensor([86.0319])  L1-loss: tensor([165.4727])\n",
            "Epoch: 92  L1 + KL-divergence: tensor([75.5049])  L1-loss: tensor([144.4394])\n",
            "Epoch: 93  L1 + KL-divergence: tensor([79.5897])  L1-loss: tensor([152.6484])\n",
            "Epoch: 94  L1 + KL-divergence: tensor([84.6286])  L1-loss: tensor([162.7257])\n",
            "Epoch: 95  L1 + KL-divergence: tensor([71.8622])  L1-loss: tensor([137.2278])\n",
            "Epoch: 96  L1 + KL-divergence: tensor([72.9320])  L1-loss: tensor([139.3071])\n",
            "Epoch: 97  L1 + KL-divergence: tensor([79.7590])  L1-loss: tensor([152.9454])\n",
            "Epoch: 98  L1 + KL-divergence: tensor([76.4158])  L1-loss: tensor([146.2012])\n",
            "Epoch: 99  L1 + KL-divergence: tensor([74.7319])  L1-loss: tensor([142.8436])\n"
          ],
          "name": "stdout"
        }
      ]
    },
    {
      "cell_type": "code",
      "metadata": {
        "id": "wr_bAB24fD-K",
        "colab_type": "code",
        "outputId": "a84b79b4-5257-4ce4-8dba-a5e44b22c91b",
        "colab": {
          "base_uri": "https://localhost:8080/",
          "height": 283
        }
      },
      "source": [
        "pyplot.imshow(x_valid[9].reshape((28, 28)), cmap=\"gray\")"
      ],
      "execution_count": 285,
      "outputs": [
        {
          "output_type": "execute_result",
          "data": {
            "text/plain": [
              "<matplotlib.image.AxesImage at 0x7f50f1d40dd8>"
            ]
          },
          "metadata": {
            "tags": []
          },
          "execution_count": 285
        },
        {
          "output_type": "display_data",
          "data": {
            "image/png": "[encoded data removed]",
            "text/plain": [
              "<Figure size 432x288 with 1 Axes>"
            ]
          },
          "metadata": {
            "tags": [],
            "needs_background": "light"
          }
        }
      ]
    },
    {
      "cell_type": "code",
      "metadata": {
        "id": "hLv6C-k_iUcJ",
        "colab_type": "code",
        "colab": {}
      },
      "source": [
        "result, mu, log_var = model_vae(valid_data[9].unsqueeze(0))"
      ],
      "execution_count": 0,
      "outputs": []
    },
    {
      "cell_type": "code",
      "metadata": {
        "id": "czxos1wUid0H",
        "colab_type": "code",
        "colab": {}
      },
      "source": [
        "x_result= result[0,0]"
      ],
      "execution_count": 0,
      "outputs": []
    },
    {
      "cell_type": "code",
      "metadata": {
        "id": "ubTsOym-iqTB",
        "colab_type": "code",
        "outputId": "b2b401d0-dcbb-4e6b-b53e-a6fd655bb08c",
        "colab": {
          "base_uri": "https://localhost:8080/",
          "height": 283
        }
      },
      "source": [
        "pyplot.imshow(x_result.cpu().detach().numpy(), cmap=\"gray\")"
      ],
      "execution_count": 288,
      "outputs": [
        {
          "output_type": "execute_result",
          "data": {
            "text/plain": [
              "<matplotlib.image.AxesImage at 0x7f50f1ca0898>"
            ]
          },
          "metadata": {
            "tags": []
          },
          "execution_count": 288
        },
        {
          "output_type": "display_data",
          "data": {
            "image/png": "[encoded data removed]",
            "text/plain": [
              "<Figure size 432x288 with 1 Axes>"
            ]
          },
          "metadata": {
            "tags": [],
            "needs_background": "light"
          }
        }
      ]
    },
    {
      "cell_type": "code",
      "metadata": {
        "id": "ETRKtPyIDCDk",
        "colab_type": "code",
        "colab": {}
      },
      "source": [
        "torch.save(model_vae.state_dict(), \"/content/gdrive/My Drive/Colab Notebooks/Modal_VAE/vae_mnist\")"
      ],
      "execution_count": 0,
      "outputs": []
    },
    {
      "cell_type": "code",
      "metadata": {
        "id": "qmFRxhrvLhxD",
        "colab_type": "code",
        "colab": {}
      },
      "source": [
        ""
      ],
      "execution_count": 0,
      "outputs": []
    }
  ]
}