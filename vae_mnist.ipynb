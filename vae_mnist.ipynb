{
  "nbformat": 4,
  "nbformat_minor": 0,
  "metadata": {
    "kernelspec": {
      "name": "python3",
      "display_name": "Python 3"
    },
    "language_info": {
      "codemirror_mode": {
        "name": "ipython",
        "version": 3
      },
      "file_extension": ".py",
      "mimetype": "text/x-python",
      "name": "python",
      "nbconvert_exporter": "python",
      "pygments_lexer": "ipython3",
      "version": "3.7.4"
    },
    "colab": {
      "name": "vae_mnist.ipynb",
      "provenance": [],
      "collapsed_sections": []
    },
    "accelerator": "GPU"
  },
  "cells": [
    {
      "cell_type": "code",
      "metadata": {
        "id": "yB45F4XMfD7x",
        "colab_type": "code",
        "colab": {}
      },
      "source": [
        "import torch\n",
        "import torch.nn as nn\n",
        "import torch.nn.functional as F\n",
        "\n",
        "from torch.utils.data import TensorDataset\n",
        "from torch.utils.data import DataLoader"
      ],
      "execution_count": 0,
      "outputs": []
    },
    {
      "cell_type": "code",
      "metadata": {
        "id": "i2jzc_0LfKsG",
        "colab_type": "code",
        "outputId": "6fb99c83-9a24-43ee-9ebd-3ef48d57bb3f",
        "colab": {
          "base_uri": "https://localhost:8080/",
          "height": 126
        }
      },
      "source": [
        "from google.colab import drive\n",
        "drive.mount('/content/gdrive')"
      ],
      "execution_count": 2,
      "outputs": [
        {
          "output_type": "stream",
          "text": [
            "Go to this URL in a browser: https://accounts.google.com/o/oauth2/auth?client_id=947318989803-6bn6qk8qdgf4n4g3pfee6491hc0brc4i.apps.googleusercontent.com&redirect_uri=urn%3aietf%3awg%3aoauth%3a2.0%3aoob&response_type=code&scope=email%20https%3a%2f%2fwww.googleapis.com%2fauth%2fdocs.test%20https%3a%2f%2fwww.googleapis.com%2fauth%2fdrive%20https%3a%2f%2fwww.googleapis.com%2fauth%2fdrive.photos.readonly%20https%3a%2f%2fwww.googleapis.com%2fauth%2fpeopleapi.readonly\n",
            "\n",
            "Enter your authorization code:\n",
            "··········\n",
            "Mounted at /content/gdrive\n"
          ],
          "name": "stdout"
        }
      ]
    },
    {
      "cell_type": "code",
      "metadata": {
        "id": "hZ1Cx0wvfD8X",
        "colab_type": "code",
        "colab": {}
      },
      "source": [
        "import pickle\n",
        "import gzip\n",
        "\n",
        "with gzip.open((\"/content/gdrive/My Drive/Colab Notebooks/Modal_VAE/mnist/mnist.pkl.gz\"), \"rb\") as f:\n",
        "        ((x_train, y_train), (x_valid, y_valid), _) = pickle.load(f, encoding=\"latin-1\")"
      ],
      "execution_count": 0,
      "outputs": []
    },
    {
      "cell_type": "code",
      "metadata": {
        "id": "G3tjkjnefD8g",
        "colab_type": "code",
        "outputId": "0b6788b3-1d72-473e-8a86-3883aa8f4e2c",
        "colab": {
          "base_uri": "https://localhost:8080/",
          "height": 283
        }
      },
      "source": [
        "from matplotlib import pyplot\n",
        "import numpy as np\n",
        "\n",
        "pyplot.imshow(x_train[0].reshape((28, 28)), cmap=\"gray\")\n",
        "print(x_train.shape)"
      ],
      "execution_count": 4,
      "outputs": [
        {
          "output_type": "stream",
          "text": [
            "(50000, 784)\n"
          ],
          "name": "stdout"
        },
        {
          "output_type": "display_data",
          "data": {
            "image/png": "[encoded data removed]",
            "text/plain": [
              "<Figure size 432x288 with 1 Axes>"
            ]
          },
          "metadata": {
            "tags": [],
            "needs_background": "light"
          }
        }
      ]
    },
    {
      "cell_type": "code",
      "metadata": {
        "id": "jA1K0lpJfD8K",
        "colab_type": "code",
        "colab": {}
      },
      "source": [
        "dev = torch.device('cuda' if torch.cuda.is_available() else 'cpu')\n"
      ],
      "execution_count": 0,
      "outputs": []
    },
    {
      "cell_type": "code",
      "metadata": {
        "id": "vC87YpVzfD8s",
        "colab_type": "code",
        "colab": {}
      },
      "source": [
        "train_size = x_train.shape[0]\n",
        "train_data = torch.tensor(x_train, device=dev).reshape(train_size, 28, 28).unsqueeze(1)\n",
        "train_target = torch.tensor(y_train, device=dev)\n",
        "\n",
        "valid_size = x_valid.shape[0]\n",
        "valid_data = torch.tensor(x_valid, device=dev).reshape(valid_size, 28, 28).unsqueeze(1)\n",
        "valid_target = torch.tensor(y_valid, device=dev)"
      ],
      "execution_count": 0,
      "outputs": []
    },
    {
      "cell_type": "code",
      "metadata": {
        "id": "-fS_ZS8XfD85",
        "colab_type": "code",
        "colab": {}
      },
      "source": [
        "bs = 500"
      ],
      "execution_count": 0,
      "outputs": []
    },
    {
      "cell_type": "code",
      "metadata": {
        "id": "s1qTbNjTfD9G",
        "colab_type": "code",
        "colab": {}
      },
      "source": [
        "train_ds = TensorDataset(train_data, train_data)\n",
        "valid_ds = TensorDataset(valid_data, valid_data)"
      ],
      "execution_count": 0,
      "outputs": []
    },
    {
      "cell_type": "code",
      "metadata": {
        "id": "8Omyyz20fD9L",
        "colab_type": "code",
        "colab": {}
      },
      "source": [
        "train_dl = DataLoader(train_ds, bs)\n",
        "valid_dl = DataLoader(valid_ds, 2*bs)"
      ],
      "execution_count": 0,
      "outputs": []
    },
    {
      "cell_type": "code",
      "metadata": {
        "id": "lt6LtCPJfD9Q",
        "colab_type": "code",
        "colab": {}
      },
      "source": [
        "class VAE(nn.Module):\n",
        "    def __init__(self, channels, dim_h, dim_z):\n",
        "        super(VAE, self).__init__()\n",
        "        \n",
        "\n",
        "        #encoder\n",
        "        self.conv2d_encode1 = nn.Conv2d(1, 1, (2,2), stride=2, padding=0)\n",
        "        self.maxPool2d_encode1=nn.MaxPool2d((2,2), stride=2, padding=1, return_indices=True)\n",
        "        self.conv2d_encode2 = nn.Conv2d(1, 1, (2,2), stride=1, padding=0)\n",
        "        \n",
        "        #\n",
        "        self.p = nn.Linear(dim_h, dim_z)\n",
        "        \n",
        "        #decoder\n",
        "        self.convTrans2d_decode1 = nn.ConvTranspose2d(1, 1, (2,2), stride=2, padding=0)\n",
        "        self.bn_decode1 = nn.BatchNorm2d(1)\n",
        "        self.maxUnpool2d_decode = nn.MaxUnpool2d((2,2), stride=2)\n",
        "        self.bn_decode2 = nn.BatchNorm2d(1)\n",
        "        self.convTrans2d_decode2 = nn.ConvTranspose2d(1, 1, (3,3), stride=2, padding=0)\n",
        "        self.bn_decode3 = nn.BatchNorm2d(1)\n",
        "        self.p2 = nn.Linear(33*33, 28*28)\n",
        "\n",
        "    \n",
        "    def encode(self, in_data):\n",
        "\n",
        "        h = self.conv2d_encode1(in_data)\n",
        "        h = F.relu(h)\n",
        "        h, indices = self.maxPool2d_encode1(h)\n",
        "        h = F.relu(h)\n",
        "        h = self.conv2d_encode2(h)\n",
        "        h = h.reshape(h.shape[0], -1)\n",
        "\n",
        "        #mu = self.p1(h)\n",
        "        #log_var = self.p2(h)\n",
        "        h = self.p(h)\n",
        "        mu, log_var = torch.split(h, 16, 1)\n",
        "        \n",
        "        #sampling and reparameterization for backprop\n",
        "        z = torch.rand(mu.shape, device = dev)\n",
        "        z = mu + torch.exp(log_var) * z\n",
        "        z = z.reshape(z.shape[0], 1, 4, 4)\n",
        "        return z, mu, log_var, indices\n",
        "    \n",
        "    def decode(self, h_data, indices):\n",
        "        z = self.convTrans2d_decode1(h_data)\n",
        "        z = self.bn_decode1(z)\n",
        "        z = F.relu(z)\n",
        "        z = self.maxUnpool2d_decode(z, indices)\n",
        "        z = self.bn_decode2(z)\n",
        "        z = F.relu(z)\n",
        "        z = self.convTrans2d_decode2(z)\n",
        "        z = self.bn_decode3(z)\n",
        "\n",
        "        z = z.reshape(z.shape[0], 33*33)\n",
        "        z = self.p2(z)\n",
        "        z = z.reshape(z.shape[0], 1, 28, 28)\n",
        "        return z\n",
        "                \n",
        "    def forward(self, in_data):\n",
        "        z, mu, log_var, indices = self.encode(in_data)\n",
        "\n",
        "        z = self.decode(z, indices)\n",
        "        return z, mu, log_var        "
      ],
      "execution_count": 0,
      "outputs": []
    },
    {
      "cell_type": "code",
      "metadata": {
        "id": "aRFpi7HvfD9X",
        "colab_type": "code",
        "colab": {}
      },
      "source": [
        "model_vae = VAE(11, 49, 32).to(dev)"
      ],
      "execution_count": 0,
      "outputs": []
    },
    {
      "cell_type": "code",
      "metadata": {
        "id": "YQ6YmOe9fD9e",
        "colab_type": "code",
        "colab": {}
      },
      "source": [
        "#Kullback–Leibler divergence for N(mu, var^2) and N(0, I)\n",
        "def kl_divergence(mu, log_var):\n",
        "    return 0.5*( torch.sum( log_var.exp(), 1) + torch.sum(mu*mu, 1) - mu.shape[1] - torch.sum(log_var, 1) )"
      ],
      "execution_count": 0,
      "outputs": []
    },
    {
      "cell_type": "code",
      "metadata": {
        "id": "YEV3BCH4fD9l",
        "colab_type": "code",
        "colab": {}
      },
      "source": [
        "#(MSE loss + Kullback–Leibler divergence) / batch\n",
        "def vae_loss(mu, log_var, pred, target):\n",
        "    bs = pred.shape[0]\n",
        "    kl_loss = kl_divergence(mu, log_var).mean()\n",
        "    l1_loss = F.l1_loss(pred, target, reduction = 'sum') / bs\n",
        "    return (kl_loss + l1_loss)"
      ],
      "execution_count": 0,
      "outputs": []
    },
    {
      "cell_type": "code",
      "metadata": {
        "id": "bNlxNc-nfD9r",
        "colab_type": "code",
        "colab": {}
      },
      "source": [
        "lr = 0.0005"
      ],
      "execution_count": 0,
      "outputs": []
    },
    {
      "cell_type": "code",
      "metadata": {
        "id": "riOO5T7tfD9y",
        "colab_type": "code",
        "colab": {}
      },
      "source": [
        "loss_func = vae_loss\n",
        "opt = torch.optim.Adam(model_vae.parameters(), lr)"
      ],
      "execution_count": 0,
      "outputs": []
    },
    {
      "cell_type": "code",
      "metadata": {
        "id": "vevxH_zefD94",
        "colab_type": "code",
        "colab": {}
      },
      "source": [
        "def fit(epochs, model, loss_func, opt, train_dl, valid_dl):\n",
        "    for epoch in range(epochs):\n",
        "        model.train()\n",
        "        for data, target in train_dl:\n",
        "            pred, mu, log_var = model(data)\n",
        "            loss = loss_func(mu, log_var, pred, target)\n",
        "            opt.zero_grad()\n",
        "            loss.backward()\n",
        "            opt.step()\n",
        "        \n",
        "        model.eval()\n",
        "        with torch.no_grad():\n",
        "            average_valid_loss = torch.zeros(1)\n",
        "            l1_loss = torch.zeros(1)\n",
        "            num_batch = 0\n",
        "            for data, target in valid_dl:\n",
        "                pred, mu, log_var = model(data)\n",
        "                average_valid_loss += loss_func(mu, log_var, pred, target)\n",
        "                num_batch += 1\n",
        "                l1_loss += F.l1_loss(pred, target, reduction='sum')\n",
        "            average_valid_loss /= num_batch\n",
        "            l1_loss /= (bs * num_batch)\n",
        "            print(\"Epoch: \" + str(epoch) + \"  L1 + KL-divergence: \" + str(average_valid_loss) + \"  L1-loss: \" + str(l1_loss))"
      ],
      "execution_count": 0,
      "outputs": []
    },
    {
      "cell_type": "code",
      "metadata": {
        "id": "APwqznr_fD9_",
        "colab_type": "code",
        "colab": {}
      },
      "source": [
        "epochs = 100"
      ],
      "execution_count": 0,
      "outputs": []
    },
    {
      "cell_type": "code",
      "metadata": {
        "id": "901KaiaRfD-D",
        "colab_type": "code",
        "outputId": "a84f3560-33e8-49c1-8c18-886d78c02def",
        "colab": {
          "base_uri": "https://localhost:8080/",
          "height": 1000
        }
      },
      "source": [
        "fit(epochs, model_vae, loss_func, opt, train_dl, valid_dl)"
      ],
      "execution_count": 35,
      "outputs": [
        {
          "output_type": "stream",
          "text": [
            "Epoch: 0  L1 + KL-divergence: tensor([55.6121])  L1-loss: tensor([106.0940])\n",
            "Epoch: 1  L1 + KL-divergence: tensor([55.6147])  L1-loss: tensor([106.1145])\n",
            "Epoch: 2  L1 + KL-divergence: tensor([55.6998])  L1-loss: tensor([106.2770])\n",
            "Epoch: 3  L1 + KL-divergence: tensor([55.6275])  L1-loss: tensor([106.1371])\n",
            "Epoch: 4  L1 + KL-divergence: tensor([55.6425])  L1-loss: tensor([106.1500])\n",
            "Epoch: 5  L1 + KL-divergence: tensor([55.6587])  L1-loss: tensor([106.1820])\n",
            "Epoch: 6  L1 + KL-divergence: tensor([55.6245])  L1-loss: tensor([106.1184])\n",
            "Epoch: 7  L1 + KL-divergence: tensor([55.6215])  L1-loss: tensor([106.1274])\n",
            "Epoch: 8  L1 + KL-divergence: tensor([55.6354])  L1-loss: tensor([106.1308])\n",
            "Epoch: 9  L1 + KL-divergence: tensor([55.6238])  L1-loss: tensor([106.0897])\n",
            "Epoch: 10  L1 + KL-divergence: tensor([55.6029])  L1-loss: tensor([106.0571])\n",
            "Epoch: 11  L1 + KL-divergence: tensor([55.6264])  L1-loss: tensor([106.0957])\n",
            "Epoch: 12  L1 + KL-divergence: tensor([55.6443])  L1-loss: tensor([106.1349])\n",
            "Epoch: 13  L1 + KL-divergence: tensor([55.5822])  L1-loss: tensor([106.0019])\n",
            "Epoch: 14  L1 + KL-divergence: tensor([55.6301])  L1-loss: tensor([106.0896])\n",
            "Epoch: 15  L1 + KL-divergence: tensor([55.6039])  L1-loss: tensor([106.0347])\n",
            "Epoch: 16  L1 + KL-divergence: tensor([55.6251])  L1-loss: tensor([106.0854])\n",
            "Epoch: 17  L1 + KL-divergence: tensor([55.6333])  L1-loss: tensor([106.0968])\n",
            "Epoch: 18  L1 + KL-divergence: tensor([55.6634])  L1-loss: tensor([106.1704])\n",
            "Epoch: 19  L1 + KL-divergence: tensor([55.6203])  L1-loss: tensor([106.0929])\n",
            "Epoch: 20  L1 + KL-divergence: tensor([55.5808])  L1-loss: tensor([105.9831])\n",
            "Epoch: 21  L1 + KL-divergence: tensor([55.5694])  L1-loss: tensor([105.9771])\n",
            "Epoch: 22  L1 + KL-divergence: tensor([55.6229])  L1-loss: tensor([106.0712])\n",
            "Epoch: 23  L1 + KL-divergence: tensor([55.6398])  L1-loss: tensor([106.1003])\n",
            "Epoch: 24  L1 + KL-divergence: tensor([55.6485])  L1-loss: tensor([106.1271])\n",
            "Epoch: 25  L1 + KL-divergence: tensor([55.5987])  L1-loss: tensor([106.0011])\n",
            "Epoch: 26  L1 + KL-divergence: tensor([55.6316])  L1-loss: tensor([106.0880])\n",
            "Epoch: 27  L1 + KL-divergence: tensor([55.7048])  L1-loss: tensor([106.2290])\n",
            "Epoch: 28  L1 + KL-divergence: tensor([55.6041])  L1-loss: tensor([106.0278])\n",
            "Epoch: 29  L1 + KL-divergence: tensor([55.5984])  L1-loss: tensor([105.9811])\n",
            "Epoch: 30  L1 + KL-divergence: tensor([55.6287])  L1-loss: tensor([106.0744])\n",
            "Epoch: 31  L1 + KL-divergence: tensor([55.6125])  L1-loss: tensor([106.0426])\n",
            "Epoch: 32  L1 + KL-divergence: tensor([55.6208])  L1-loss: tensor([106.0344])\n",
            "Epoch: 33  L1 + KL-divergence: tensor([55.6103])  L1-loss: tensor([106.0176])\n",
            "Epoch: 34  L1 + KL-divergence: tensor([55.6007])  L1-loss: tensor([106.0132])\n",
            "Epoch: 35  L1 + KL-divergence: tensor([55.7659])  L1-loss: tensor([106.3264])\n",
            "Epoch: 36  L1 + KL-divergence: tensor([55.6986])  L1-loss: tensor([106.1936])\n",
            "Epoch: 37  L1 + KL-divergence: tensor([55.7539])  L1-loss: tensor([106.2931])\n",
            "Epoch: 38  L1 + KL-divergence: tensor([55.6500])  L1-loss: tensor([106.1004])\n",
            "Epoch: 39  L1 + KL-divergence: tensor([55.6384])  L1-loss: tensor([106.0995])\n",
            "Epoch: 40  L1 + KL-divergence: tensor([55.6659])  L1-loss: tensor([106.1412])\n",
            "Epoch: 41  L1 + KL-divergence: tensor([55.7118])  L1-loss: tensor([106.2030])\n",
            "Epoch: 42  L1 + KL-divergence: tensor([55.6176])  L1-loss: tensor([106.0193])\n",
            "Epoch: 43  L1 + KL-divergence: tensor([55.6867])  L1-loss: tensor([106.1767])\n",
            "Epoch: 44  L1 + KL-divergence: tensor([55.5948])  L1-loss: tensor([105.9781])\n",
            "Epoch: 45  L1 + KL-divergence: tensor([55.7249])  L1-loss: tensor([106.2443])\n",
            "Epoch: 46  L1 + KL-divergence: tensor([55.6044])  L1-loss: tensor([105.9906])\n",
            "Epoch: 47  L1 + KL-divergence: tensor([55.6079])  L1-loss: tensor([105.9872])\n",
            "Epoch: 48  L1 + KL-divergence: tensor([55.6657])  L1-loss: tensor([106.1172])\n",
            "Epoch: 49  L1 + KL-divergence: tensor([55.6068])  L1-loss: tensor([105.9955])\n",
            "Epoch: 50  L1 + KL-divergence: tensor([55.6129])  L1-loss: tensor([106.0044])\n",
            "Epoch: 51  L1 + KL-divergence: tensor([55.5879])  L1-loss: tensor([105.9552])\n",
            "Epoch: 52  L1 + KL-divergence: tensor([55.6075])  L1-loss: tensor([105.9716])\n",
            "Epoch: 53  L1 + KL-divergence: tensor([55.6346])  L1-loss: tensor([106.0538])\n",
            "Epoch: 54  L1 + KL-divergence: tensor([55.7224])  L1-loss: tensor([106.2153])\n",
            "Epoch: 55  L1 + KL-divergence: tensor([55.6386])  L1-loss: tensor([106.0574])\n",
            "Epoch: 56  L1 + KL-divergence: tensor([55.6159])  L1-loss: tensor([106.0013])\n",
            "Epoch: 57  L1 + KL-divergence: tensor([55.9160])  L1-loss: tensor([106.6015])\n",
            "Epoch: 58  L1 + KL-divergence: tensor([55.7039])  L1-loss: tensor([106.1669])\n",
            "Epoch: 59  L1 + KL-divergence: tensor([55.6586])  L1-loss: tensor([106.0842])\n",
            "Epoch: 60  L1 + KL-divergence: tensor([55.6244])  L1-loss: tensor([106.0162])\n",
            "Epoch: 61  L1 + KL-divergence: tensor([55.6564])  L1-loss: tensor([106.0658])\n",
            "Epoch: 62  L1 + KL-divergence: tensor([55.6947])  L1-loss: tensor([106.1274])\n",
            "Epoch: 63  L1 + KL-divergence: tensor([55.8990])  L1-loss: tensor([106.5743])\n",
            "Epoch: 64  L1 + KL-divergence: tensor([55.6602])  L1-loss: tensor([106.0955])\n",
            "Epoch: 65  L1 + KL-divergence: tensor([55.6431])  L1-loss: tensor([106.0327])\n",
            "Epoch: 66  L1 + KL-divergence: tensor([55.6089])  L1-loss: tensor([105.9815])\n",
            "Epoch: 67  L1 + KL-divergence: tensor([55.6435])  L1-loss: tensor([106.0565])\n",
            "Epoch: 68  L1 + KL-divergence: tensor([55.6309])  L1-loss: tensor([105.9934])\n",
            "Epoch: 69  L1 + KL-divergence: tensor([55.6877])  L1-loss: tensor([106.1313])\n",
            "Epoch: 70  L1 + KL-divergence: tensor([55.7735])  L1-loss: tensor([106.2954])\n",
            "Epoch: 71  L1 + KL-divergence: tensor([55.6866])  L1-loss: tensor([106.1227])\n",
            "Epoch: 72  L1 + KL-divergence: tensor([55.6495])  L1-loss: tensor([106.0474])\n",
            "Epoch: 73  L1 + KL-divergence: tensor([55.6206])  L1-loss: tensor([105.9832])\n",
            "Epoch: 74  L1 + KL-divergence: tensor([55.7288])  L1-loss: tensor([106.1805])\n",
            "Epoch: 75  L1 + KL-divergence: tensor([55.6848])  L1-loss: tensor([106.0953])\n",
            "Epoch: 76  L1 + KL-divergence: tensor([55.7213])  L1-loss: tensor([106.1900])\n",
            "Epoch: 77  L1 + KL-divergence: tensor([55.6042])  L1-loss: tensor([105.9393])\n",
            "Epoch: 78  L1 + KL-divergence: tensor([55.6150])  L1-loss: tensor([105.9421])\n",
            "Epoch: 79  L1 + KL-divergence: tensor([55.6157])  L1-loss: tensor([105.9841])\n",
            "Epoch: 80  L1 + KL-divergence: tensor([55.6489])  L1-loss: tensor([106.0450])\n",
            "Epoch: 81  L1 + KL-divergence: tensor([55.6276])  L1-loss: tensor([105.9883])\n",
            "Epoch: 82  L1 + KL-divergence: tensor([55.6843])  L1-loss: tensor([106.0671])\n",
            "Epoch: 83  L1 + KL-divergence: tensor([55.6227])  L1-loss: tensor([105.9727])\n",
            "Epoch: 84  L1 + KL-divergence: tensor([55.6022])  L1-loss: tensor([105.9442])\n",
            "Epoch: 85  L1 + KL-divergence: tensor([55.6657])  L1-loss: tensor([106.0485])\n",
            "Epoch: 86  L1 + KL-divergence: tensor([55.6032])  L1-loss: tensor([105.9186])\n",
            "Epoch: 87  L1 + KL-divergence: tensor([55.6556])  L1-loss: tensor([106.0261])\n",
            "Epoch: 88  L1 + KL-divergence: tensor([55.7898])  L1-loss: tensor([106.2990])\n",
            "Epoch: 89  L1 + KL-divergence: tensor([55.7160])  L1-loss: tensor([106.1467])\n",
            "Epoch: 90  L1 + KL-divergence: tensor([55.6061])  L1-loss: tensor([105.9364])\n",
            "Epoch: 91  L1 + KL-divergence: tensor([55.6447])  L1-loss: tensor([106.0315])\n",
            "Epoch: 92  L1 + KL-divergence: tensor([55.5900])  L1-loss: tensor([105.9294])\n",
            "Epoch: 93  L1 + KL-divergence: tensor([55.6897])  L1-loss: tensor([106.0921])\n",
            "Epoch: 94  L1 + KL-divergence: tensor([55.6573])  L1-loss: tensor([106.0408])\n",
            "Epoch: 95  L1 + KL-divergence: tensor([55.6122])  L1-loss: tensor([105.9208])\n",
            "Epoch: 96  L1 + KL-divergence: tensor([55.6404])  L1-loss: tensor([105.9917])\n",
            "Epoch: 97  L1 + KL-divergence: tensor([55.6760])  L1-loss: tensor([106.0589])\n",
            "Epoch: 98  L1 + KL-divergence: tensor([55.6465])  L1-loss: tensor([105.9793])\n",
            "Epoch: 99  L1 + KL-divergence: tensor([55.5902])  L1-loss: tensor([105.8844])\n"
          ],
          "name": "stdout"
        }
      ]
    },
    {
      "cell_type": "code",
      "metadata": {
        "id": "wr_bAB24fD-K",
        "colab_type": "code",
        "outputId": "43835d90-2793-47a4-a5b8-ec475edd0bf3",
        "colab": {
          "base_uri": "https://localhost:8080/",
          "height": 283
        }
      },
      "source": [
        "pyplot.imshow(x_valid[7404].reshape((28, 28)), cmap=\"gray\")"
      ],
      "execution_count": 36,
      "outputs": [
        {
          "output_type": "execute_result",
          "data": {
            "text/plain": [
              "<matplotlib.image.AxesImage at 0x7feae453c6d8>"
            ]
          },
          "metadata": {
            "tags": []
          },
          "execution_count": 36
        },
        {
          "output_type": "display_data",
          "data": {
            "image/png": "[encoded data removed]",
            "text/plain": [
              "<Figure size 432x288 with 1 Axes>"
            ]
          },
          "metadata": {
            "tags": [],
            "needs_background": "light"
          }
        }
      ]
    },
    {
      "cell_type": "code",
      "metadata": {
        "id": "hLv6C-k_iUcJ",
        "colab_type": "code",
        "outputId": "b3174025-c36e-4f36-ff2f-568a9dd82516",
        "colab": {
          "base_uri": "https://localhost:8080/",
          "height": 283
        }
      },
      "source": [
        "result, mu, log_var = model_vae(valid_data[7404].unsqueeze(0))\n",
        "x_result= result[0,0]\n",
        "pyplot.imshow(x_result.cpu().detach().numpy(), cmap=\"gray\")"
      ],
      "execution_count": 37,
      "outputs": [
        {
          "output_type": "execute_result",
          "data": {
            "text/plain": [
              "<matplotlib.image.AxesImage at 0x7feae43197b8>"
            ]
          },
          "metadata": {
            "tags": []
          },
          "execution_count": 37
        },
        {
          "output_type": "display_data",
          "data": {
            "image/png": "[encoded data removed]",
            "text/plain": [
              "<Figure size 432x288 with 1 Axes>"
            ]
          },
          "metadata": {
            "tags": [],
            "needs_background": "light"
          }
        }
      ]
    },
    {
      "cell_type": "code",
      "metadata": {
        "id": "ETRKtPyIDCDk",
        "colab_type": "code",
        "colab": {}
      },
      "source": [
        "torch.save(model_vae.state_dict(), \"/content/gdrive/My Drive/Colab Notebooks/Modal_VAE/vae_mnist2\")"
      ],
      "execution_count": 0,
      "outputs": []
    },
    {
      "cell_type": "code",
      "metadata": {
        "id": "QF_d1iIy0IGQ",
        "colab_type": "code",
        "colab": {}
      },
      "source": [
        ""
      ],
      "execution_count": 0,
      "outputs": []
    }
  ]
}